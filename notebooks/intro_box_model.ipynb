{
 "cells": [
  {
   "attachments": {},
   "cell_type": "markdown",
   "metadata": {},
   "source": [
    "## Introduction to the AGAGE 12-box model\n",
    "\n",
    "Ben Adam, September 2024"
   ]
  },
  {
   "attachments": {},
   "cell_type": "markdown",
   "metadata": {},
   "source": [
    "The 12-box model is a simple model of the atmosphere, which can be used to model global emissions and mole fractions of a variety of long-lived greenhouse and ozone-depleting gases. \n",
    "\n",
    "The model code can be viewed at [this link](github.com/mrghg/py12box), and there is documentation and information about how the model works available there, too. Here we will take a look at some things the box model can do with an example gas (CFC-11). \n",
    "\n",
    "The package can be installed in your conda environment by running\n",
    "\n",
    "`conda install -c mrghg py12box` \n",
    "\n",
    "or equivalently using pip: \n",
    "\n",
    "`pip install py12box`"
   ]
  },
  {
   "attachments": {},
   "cell_type": "markdown",
   "metadata": {},
   "source": [
    "### Getting set up"
   ]
  },
  {
   "attachments": {},
   "cell_type": "markdown",
   "metadata": {},
   "source": [
    "The model requires two inputs in order to model mole fractions. These are initial conditions - which describe the amount of the species in each box at the start of the run - and emissions, which give the amount of the species emitted in each *surface* box at each time step of the run. In this case, I have adapted the example (fake) CFC-11 emissions and initial conditions from the py12box documentation, and these files are in the data directory of this repository. The files are in .csv format - simple and readily accessible to both humans and computers. Let's take a look at these, using the pandas `read_csv` function:"
   ]
  },
  {
   "cell_type": "code",
   "execution_count": null,
   "metadata": {},
   "outputs": [],
   "source": [
    "import pandas as pd\n",
    "emissions = pd.read_csv('../data/CFC-11_emissions.csv', skiprows=2)\n",
    "emissions"
   ]
  },
  {
   "attachments": {},
   "cell_type": "markdown",
   "metadata": {},
   "source": [
    "Clearly, we're working with CFC-11 emissions of 110 Gg / yr for 1990-1999, emitted in boxes 0 and 1 (which correspond to the northern hemisphere), then zero emissions for 2000-2020. This is roughly in line with what we expect from accordance with the Montreal Protocol, although that doesn't matter here - we're just testing the model! Note that the model doesn't 'know' the emissions - we've put them in the header of the CSV file for our reference. The model uses a default unit of ppt for mole fractions for the F-gases (with a few exceptions) and Gg / yr for emissions. "
   ]
  },
  {
   "cell_type": "code",
   "execution_count": null,
   "metadata": {},
   "outputs": [],
   "source": [
    "initial_conditions = pd.read_csv('../data/CFC-11_initial_conditions.csv', skiprows=1)\n",
    "initial_conditions"
   ]
  },
  {
   "attachments": {},
   "cell_type": "markdown",
   "metadata": {},
   "source": [
    "The initial conditions (in ppt) look reasonable, too. Now that we've got the inputs setup, let's try run the model!"
   ]
  },
  {
   "attachments": {},
   "cell_type": "markdown",
   "metadata": {},
   "source": [
    "### Running the model"
   ]
  },
  {
   "attachments": {},
   "cell_type": "markdown",
   "metadata": {},
   "source": [
    "We need to import the Model class, which actually does the modelling and calculations. We also need to use the Path class to point to the directory where we've stored our input data - in this case, the data directory. Everything else the model needs - like atmospheric lifetimes and rate constants - it already has access to. So we're ready to compile it:"
   ]
  },
  {
   "cell_type": "code",
   "execution_count": null,
   "metadata": {},
   "outputs": [],
   "source": [
    "# import the Model class and get_data function from the py12box package\n",
    "\n",
    "from py12box.model import Model\n",
    "\n",
    "# we also need to set the correct path to our data directory using the pathlib.Path class\n",
    "\n",
    "from pathlib import Path\n",
    "\n",
    "data_dir = Path('../data') # the \"..\" tells the Path class to go to the parent directory of the directory this notebook is being run from (i.e. notebooks)\n",
    "\n",
    "mod = Model(species=\"CFC-11\",\n",
    "            project_directory=data_dir)"
   ]
  },
  {
   "attachments": {},
   "cell_type": "markdown",
   "metadata": {},
   "source": [
    "The model is now compiled, and we can look at the inputs to check they're correct. For example, the emissions can be accessed using mod.emissions, and is a numpy array with the emissions in each box, each month of the run. "
   ]
  },
  {
   "cell_type": "code",
   "execution_count": null,
   "metadata": {},
   "outputs": [],
   "source": [
    "mod.emissions"
   ]
  },
  {
   "attachments": {},
   "cell_type": "markdown",
   "metadata": {},
   "source": [
    "Now we can actually run the model:"
   ]
  },
  {
   "cell_type": "code",
   "execution_count": null,
   "metadata": {},
   "outputs": [],
   "source": [
    "mod.run()"
   ]
  },
  {
   "attachments": {},
   "cell_type": "markdown",
   "metadata": {},
   "source": [
    "### Looking at the outputs"
   ]
  },
  {
   "attachments": {},
   "cell_type": "markdown",
   "metadata": {},
   "source": [
    "To visualise the outputs, let's use matplotlib (make sure this is also in your conda environment). The key output we're interested in is the mole fraction, which is a numpy array accessed by `mod.mf`. This is calculated for each of the twelve boxes, so make sure you plot up the right one! Other variables (such as time, losses, emissions etc.) can also be accessed easily. I've plotted just box 0 and box 3 for simplicity. "
   ]
  },
  {
   "cell_type": "code",
   "execution_count": null,
   "metadata": {},
   "outputs": [],
   "source": [
    "# import matplotlib for plotting\n",
    "\n",
    "import matplotlib.pyplot as plt\n",
    "\n",
    "fig, ax = plt.subplots(figsize=(8,6))\n",
    "ax.plot(mod.time, mod.mf[:,0], label='modelled (box 0)')\n",
    "ax.plot(mod.time, mod.mf[:,3], label='modelled (box 3)')\n",
    "ax.legend()\n",
    "ax.set_xlabel('year')\n",
    "ax.set_ylabel('[CFC-11] / ppt')"
   ]
  },
  {
   "attachments": {},
   "cell_type": "markdown",
   "metadata": {},
   "source": [
    "Of course, models are only interesting when compared to the real-life data. Let's take a look at some of that, which I've also put in the data directory in .csv form. We can read the file in essentially the same way as the emissions files, although make sure you've checked the raw file and that the arguments all make sense. "
   ]
  },
  {
   "cell_type": "code",
   "execution_count": null,
   "metadata": {},
   "outputs": [],
   "source": [
    "# read in the obs\n",
    "\n",
    "obs = pd.read_csv(\"../data/CFC-11_obs_agage.csv\", header=22, skiprows=[23])\n",
    "obs = obs.set_index(pd.to_datetime(obs['date']))\n",
    "obs"
   ]
  },
  {
   "attachments": {},
   "cell_type": "markdown",
   "metadata": {},
   "source": [
    "There's a lot of unnecessary information in this file (which is actually modified from the [py12box_agage](https://github.com/mrghg/py12box_agage) repository) but the important thing is the four 'mf' columns, which give the monthly mean mole fractions from the measurement stations in each of the four boxes. Let's make that plot again, but with the measured mole_fractions in box_0 and box_3 on the same plot in order to compare modelled and measured mole fractions:"
   ]
  },
  {
   "cell_type": "code",
   "execution_count": null,
   "metadata": {},
   "outputs": [],
   "source": [
    "# first need to do a bit of tinkering to convert the pandas datetime index to a decimal date, which is needed for comparison with the model output\n",
    "\n",
    "obs['decimal_date'] = obs.index.year + (obs.index.dayofyear - 1)/365\n",
    "\n",
    "# make the plot again\n",
    "\n",
    "fig, ax = plt.subplots(figsize=(8,6))\n",
    "ax.plot(mod.time, mod.mf[:,0], label='modelled (box 0)')\n",
    "ax.plot(mod.time, mod.mf[:,3], label='modelled (box 3)')\n",
    "ax.plot(obs['decimal_date'], obs['mf'], label='measured (box 0)')\n",
    "ax.plot(obs['decimal_date'], obs['mf.3'], label='measured (box 3)')\n",
    "\n",
    "ax.set_xlabel('year')\n",
    "ax.set_ylabel('[CFC-11] / ppt')\n",
    "\n",
    "ax.legend()"
   ]
  },
  {
   "attachments": {},
   "cell_type": "markdown",
   "metadata": {},
   "source": [
    "So clearly our inputs weren't all that accurate! It looks like we underestimated our initial mole fractions, and the emissions look a bit off too. But at least it's all on the correct order of magntitude, and hopefully this example gives you an idea of the power of this model and how it works. "
   ]
  },
  {
   "attachments": {},
   "cell_type": "markdown",
   "metadata": {},
   "source": []
  }
 ],
 "metadata": {
  "kernelspec": {
   "display_name": "py12box",
   "language": "python",
   "name": "python3"
  },
  "language_info": {
   "codemirror_mode": {
    "name": "ipython",
    "version": 3
   },
   "file_extension": ".py",
   "mimetype": "text/x-python",
   "name": "python",
   "nbconvert_exporter": "python",
   "pygments_lexer": "ipython3",
   "version": "3.11.9"
  },
  "orig_nbformat": 4
 },
 "nbformat": 4,
 "nbformat_minor": 2
}
