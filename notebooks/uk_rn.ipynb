{
 "cells": [
  {
   "cell_type": "markdown",
   "metadata": {},
   "source": [
    "# Using atmospheric radon measurements to understand transport model uncertainty\n",
    "\n",
    "The UK now has several high-frequency, high-precision instruments for the measurement of <sup>222</sup>Rn concentrations in the atmosphere. Radon has been proposed as a useful tracer with which to test the performance of models that simulate the transport of trace gases in the lower atmosphere. This is because Radon has a half-life of a few days in the atmosphere, and is only emitted from the land surface at a rate that is thought to be somewhat well known. Therefore, comparison of model simulations to atmospheric concentrations should tell us about mixing and transport processes that occur in the atmosphere over ~daily timescales.\n",
    "\n",
    "The challenge with Rn model simulations is to understand uncertainties in emissions from the soil. These emissions vary widely in space, and are influenced by factors such as soil moisture.\n",
    "\n",
    "For Europe, flux estimates were produced by Karstens et al. (2015), based on different soil moisture estimates. These estimates are available from Karstens (2015a), and have recently been updated (Karsetens et al., 2023; 2023a). You will need to \"regrid\" these fluxes onto the same resolution as the atmospheric model, as described in the notebook on [regridding](regridding.ipynb).\n",
    "\n",
    "A recent study compared these observations to Met Office NAME model simulations (Manning et al., unpublished, 2023). They used a binary classifier to propose periods when the NAME model performed well or poorly, depending on the fit to the Rn data. In this project, it is proposed that we build on this work by:\n",
    "- Exploring the fit to the Rn data as a contiuous measure, and how the goodness-of-fit is influenced by meteorological variables.\n",
    "- Determining how the flux estimate influences predicted Rn concentrations.\n",
    "    - Are there periods when the model is strongly influenced by uncertainties in the Rn flux?\n",
    "    - What is the relative importance of systematic or random flux model errors? The latter could be explored by creating a Monte Carlo ensemble of model predictions, and the former by testing different flux fields or overall scalings of the fluxes."
   ]
  },
  {
   "cell_type": "markdown",
   "metadata": {},
   "source": [
    "## Getting started\n",
    "\n",
    "You will be provided with Radon data from UK DECC network sites (Stanley et al., 2020) and footprints from the Met Office NAME model. Note that these footprints are different to the typical footprints that we use for long-lived GHGs, because they have accounted for the the atmospheric decay of Rn. \n",
    "\n",
    "Details on how to read in these data and model files are in the [introduction to obs and footprints notebook](intro_obs_and_footprints.ipynb). Note that the file format for the Rn data will be slightly different to the other DECC network data, but the overall methods for reading and manipulating the data should be the same.\n",
    "\n",
    "Links to estimates are in the bibliography below."
   ]
  },
  {
   "cell_type": "markdown",
   "metadata": {},
   "source": [
    "## References\n",
    "\n",
    "Karstens, U., Schwingshackl, C., Schmithüsen, D., and Levin, I.: A process-based 222-radon flux map for Europe and its comparison to long-term observations, Atmospheric Chemistry and Physics, 15, 12845–12865, https://doi.org/10.5194/acp-15-12845-2015, 2015.\n",
    "\n",
    "Karstens, Ute; Schwingshackl, Clemens; Schmithüsen, Dominik; Levin, Ingeborg (2015a): 222Radon flux map for Europe in NetCDF format. PANGAEA, https://doi.org/10.1594/PANGAEA.854715,\n",
    "\n",
    "Karstens, U., Levin, I. (2023). traceRadon daily radon flux map for Europe 2022 (based on GLDAS-Noah v2.1 soil moisture), Miscellaneous, https://hdl.handle.net/11676/SG_LHGMUsZVv9NxkIrRw9eRv\n",
    "\n",
    "Karstens, U., Levin, I. (2023a). traceRadon monthly radon flux map for Europe 2006-2022 (based on ERA5-Land soil moisture), Miscellaneous, https://hdl.handle.net/11676/YLHSb9HhpYbqzMpd4yPmfm3s\n",
    "\n",
    "Stanley, K. M., Grant, A., O'Doherty, S., Young, D., Manning, A. J., Stavert, A. R., Spain, T. G., Salameh, P. K., Harth, C. M., Simmonds, P. G., Sturges, W. T., Oram, D. E., and Derwent, R. G.: Greenhouse gas measurements from a UK network of tall towers: technical description and first results, Atmospheric Measurement Techniques, 11, 1437–1458, https://doi.org/10.5194/amt-11-1437-2018, 2018."
   ]
  },
  {
   "cell_type": "markdown",
   "metadata": {},
   "source": []
  }
 ],
 "metadata": {
  "kernelspec": {
   "display_name": "openghg",
   "language": "python",
   "name": "openghg"
  },
  "language_info": {
   "name": "python",
   "version": "3.10.10"
  }
 },
 "nbformat": 4,
 "nbformat_minor": 2
}
