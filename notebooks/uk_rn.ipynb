{
 "cells": [
  {
   "cell_type": "markdown",
   "metadata": {},
   "source": [
    "# Using atmospheric radon measurements to understand transport model uncertainty\n",
    "\n",
    "The UK now has several high-frequency, high-precision instruments for the measurement of $^{222}$Rn concentrations in the atmosphere. Radon has been proposed as a useful tracer with which to test the performance of models that simulate the transport of trace gases in the lower atmosphere. This is because Radon has a half-life of a few days in the atmosphere, and is only emitted from the land surface at a rate that is thought to be somewhat well known. Therefore, comparison of model simulations to atmospheric concentrations should tell us about mixing and transport processes that occur in the atmosphere over ~daily timescales."
   ]
  },
  {
   "cell_type": "markdown",
   "metadata": {},
   "source": []
  }
 ],
 "metadata": {
  "language_info": {
   "name": "python"
  }
 },
 "nbformat": 4,
 "nbformat_minor": 2
}
