{
 "cells": [
  {
   "cell_type": "markdown",
   "metadata": {},
   "source": [
    "# What is the cause of the very large SF6 pollution events we see in the UK?\n",
    "\n",
    "SF6 is an extremely potent GHG, with a very long lifetime. Its concentration is growing in the global atmosphere (e.g., Simmonds et al., 2020). It is measured at relatively high frequency in the UK DECC network (Stanley et al., 2018)."
   ]
  },
  {
   "cell_type": "markdown",
   "metadata": {},
   "source": [
    "## SF6 measurements in the UK DECC network\n",
    "\n",
    "Here's an example of an SF6 timeseries at Ridge Hill:"
   ]
  },
  {
   "cell_type": "markdown",
   "metadata": {},
   "source": [
    "## References\n",
    "\n",
    "Rigby, M., Mühle, J., Miller, B. R., Prinn, R. G., Krummel, P. B., Steele, L. P., Fraser, P. J., Salameh, P. K., Harth, C. M., Weiss, R. F., Greally, B. R., O’Doherty, S., Simmonds, P. G., Vollmer, M. K., Reimann, S., Kim, J., Kim, K.-R., Wang, H. J., Olivier, J. G. J., Dlugokencky, E. J., Dutton, G. S., Hall, B. D., and Elkins, J. W.: History of atmospheric SF6 from 1973 to 2008, Atmospheric Chemistry and Physics, 10, 10305–10320, https://doi.org/10.5194/acp-10-10305-2010, 2010.\n",
    "\n",
    "Simmonds, P. G., Rigby, M., Manning, A. J., Park, S., Stanley, K. M., McCulloch, A., Henne, S., Graziosi, F., Maione, M., Arduini, J., Reimann, S., Vollmer, M. K., Mühle, J., O’Doherty, S., Young, D., Krummel, P. B., Fraser, P. J., Weiss, R. F., Salameh, P. K., Harth, C. M., Park, M.-K., Park, H., Arnold, T., Rennick, C., Steele, L. P., Mitrevski, B., Wang, R. H. J., and Prinn, R. G.: The increasing atmospheric burden of the greenhouse gas sulfur hexafluoride (SF6), Atmospheric Chemistry and Physics, 20, 7271–7290, https://doi.org/10.5194/acp-20-7271-2020, 2020.\n",
    "\n",
    "Stanley, K. M., Grant, A., O'Doherty, S., Young, D., Manning, A. J., Stavert, A. R., Spain, T. G., Salameh, P. K., Harth, C. M., Simmonds, P. G., Sturges, W. T., Oram, D. E., and Derwent, R. G.: Greenhouse gas measurements from a UK network of tall towers: technical description and first results, Atmospheric Measurement Techniques, 11, 1437–1458, https://doi.org/10.5194/amt-11-1437-2018, 2018.\n",
    "\n"
   ]
  },
  {
   "cell_type": "markdown",
   "metadata": {},
   "source": []
  }
 ],
 "metadata": {
  "language_info": {
   "name": "python"
  }
 },
 "nbformat": 4,
 "nbformat_minor": 2
}
